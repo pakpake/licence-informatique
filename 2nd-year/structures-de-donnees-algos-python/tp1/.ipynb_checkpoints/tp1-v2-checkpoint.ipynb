{
 "cells": [
  {
   "cell_type": "code",
   "execution_count": null,
   "metadata": {},
   "outputs": [],
   "source": [
    "# -*- coding: utf-8 -*-\n",
    "\"\"\" Exercice 1 \"\"\"\n",
    "\n",
    "# Création tableau et multiplication de ses valeurs\n",
    "\n",
    "#def double_tab(t):\n",
    "#    t = [i*2 for i in t]\n",
    "#    print(t)\n",
    "\n",
    "def double_tab(t):\n",
    "    for i in range(len(t)):\n",
    "        t[i]=2*t[i]\n",
    "    return t\n",
    "\n",
    "tab = [1, 2, 3]\n",
    "result = double_tab(tab)\n",
    "print(result)"
   ]
  },
  {
   "cell_type": "code",
   "execution_count": null,
   "metadata": {},
   "outputs": [],
   "source": [
    "# 2)\n",
    "def t1():\n",
    "    t = [0]*100\n",
    "    for i in range(100):\n",
    "        t[i] = i\n",
    "    return t\n",
    "\n",
    "tab1 = t1()\n",
    "#appel de fonction\n",
    "result1 = double_tab(tab1)\n",
    "print(result1)"
   ]
  },
  {
   "cell_type": "code",
   "execution_count": null,
   "metadata": {},
   "outputs": [],
   "source": [
    "def t2():\n",
    "    t = []\n",
    "    for i in range(99,-1,-1):\n",
    "        t.append(i)\n",
    "    return t\n",
    "\n",
    "tab2 = t2()\n",
    "result2 = double_tab(tab2)\n",
    "print(result2)"
   ]
  },
  {
   "cell_type": "code",
   "execution_count": null,
   "metadata": {},
   "outputs": [],
   "source": [
    "# 3) une permutation circulaire aléatoire des entiers de 0 à 99\n",
    "\n",
    "import random\n",
    "# k = random.randint(a,b) #renvoie un entier k compris entre a et b (inclus)\n",
    "\n",
    "def t3():\n",
    "    t = []\n",
    "    for i in range(0,101):\n",
    "        k = random.randint(0,99)\n",
    "        if k not in t:\n",
    "            t.append(k)\n",
    "    return t"
   ]
  },
  {
   "cell_type": "code",
   "execution_count": 3,
   "metadata": {},
   "outputs": [],
   "source": [
    "\"\"\" Exercice 2 \"\"\"\n",
    "\n",
    "# 1) max & min value in lists\n",
    "def max(t):\n",
    "    maxi = t[0]\n",
    "    for i in range(1,len(t)):\n",
    "        if t[i] > maxi:\n",
    "            maxi = t[i]\n",
    "    return maxi\n",
    "\n",
    "def min(t):\n",
    "    mini = t[0]\n",
    "    for i in range(1,len(t)):\n",
    "        if t[i] < mini:\n",
    "            mini = t[i]\n",
    "    return mini"
   ]
  },
  {
   "cell_type": "code",
   "execution_count": 38,
   "metadata": {},
   "outputs": [
    {
     "name": "stdout",
     "output_type": "stream",
     "text": [
      "7 \n",
      " 0\n"
     ]
    }
   ],
   "source": [
    "import numpy\n",
    "#from numpy.random import randint\n",
    "#import numpy.random\n",
    "# 20 valeurs random entre 0 et 9\n",
    "tab = randint(0,10,20)\n",
    "print(max(tab),\"\\n\",min(tab))"
   ]
  },
  {
   "cell_type": "code",
   "execution_count": 22,
   "metadata": {},
   "outputs": [],
   "source": [
    "# 2) les fonctions max() et min() effectuent n-1 comparaisons"
   ]
  },
  {
   "cell_type": "code",
   "execution_count": 43,
   "metadata": {},
   "outputs": [],
   "source": [
    "# 3)\n",
    "def min_max(t):\n",
    "    return min(t), max(t)"
   ]
  },
  {
   "cell_type": "code",
   "execution_count": 45,
   "metadata": {},
   "outputs": [
    {
     "data": {
      "text/plain": [
       "(1, 9)"
      ]
     },
     "execution_count": 45,
     "metadata": {},
     "output_type": "execute_result"
    }
   ],
   "source": [
    "tab = randint(0,10,20)\n",
    "min_max(tab)"
   ]
  },
  {
   "cell_type": "code",
   "execution_count": 46,
   "metadata": {},
   "outputs": [],
   "source": [
    "# nombres de comparaison effecutées : 2x(n-1)"
   ]
  },
  {
   "cell_type": "code",
   "execution_count": 48,
   "metadata": {},
   "outputs": [],
   "source": [
    "# 4)\n",
    "def min_max_better(t):\n",
    "    max = t[0]\n",
    "    min = t[0]\n",
    "    if len(t)%2==0:\n",
    "        dep = 0\n",
    "    else: \n",
    "        dep = 1\n",
    "    # On part de 0 si le tableau contient un nombre pairs d'elements, 1 sinon (pourv eviter de comparer a la fin avec un cellule inexistante)\n",
    "    for i in range(dep, len(t), 2):\n",
    "        a, b = t[i], t[i+1]\n",
    "        if a < b:\n",
    "            if a< min:\n",
    "                min = a\n",
    "            if b > max:\n",
    "                max = b\n",
    "        else:\n",
    "            if b < min:\n",
    "                min = b\n",
    "            if a > max:\n",
    "                max = a\n",
    "    return min,max\n"
   ]
  },
  {
   "cell_type": "code",
   "execution_count": 57,
   "metadata": {},
   "outputs": [
    {
     "data": {
      "text/plain": [
       "(0, 147)"
      ]
     },
     "execution_count": 57,
     "metadata": {},
     "output_type": "execute_result"
    }
   ],
   "source": [
    "tab = randint(0,150,100)\n",
    "min_max_better(tab)"
   ]
  },
  {
   "cell_type": "code",
   "execution_count": 61,
   "metadata": {},
   "outputs": [],
   "source": [
    "\"\"\"Exercice 3\"\"\"\n",
    "# 1)\n",
    "#j' ai rajouté un espace\n",
    "alphabet = \" AaBbCcDdEeFfGgHhIiJjKkLlMmNnOoPpQqRrSsTtUuVvWwXxYyZz\"\n",
    "# 2)\n",
    "def ordre_alphabetique(c1,c2):\n",
    "    alphabet = \" AaBbCcDdEeFfGgHhIiJjKkLlMmNnOoPpQqRrSsTtUuVvWwXxYyZz\"\n",
    "    if alphabet.find(c1) < alphabet.find(c2):\n",
    "        return 1\n",
    "    elif alphabet.find(c2) < alphabet.find(c1):\n",
    "        return 2\n",
    "    else:\n",
    "        return 0"
   ]
  },
  {
   "cell_type": "code",
   "execution_count": 68,
   "metadata": {},
   "outputs": [
    {
     "name": "stdout",
     "output_type": "stream",
     "text": [
      "1\n",
      "2\n",
      "0\n"
     ]
    }
   ],
   "source": [
    "print(ordre_alphabetique(\"a\",\"b\"))\n",
    "print(ordre_alphabetique(\"b\",\"a\"))\n",
    "print(ordre_alphabetique(\"a\",\"a\"))"
   ]
  },
  {
   "cell_type": "code",
   "execution_count": 96,
   "metadata": {},
   "outputs": [],
   "source": [
    "# 3)\n",
    "def ordre_lexico(m1,m2):\n",
    "    #pour avoir 2 chaines de caracteres de la meme longueurs, on complete la plus petite avec des espaces\n",
    "    if len(m1) < len(m2):\n",
    "        m1 = m1 + (len(m2)-len(m1)) * \" \"\n",
    "    else: \n",
    "        m2 = m2 + (len(m1)-len(m2)) * \" \"\n",
    "    i=0\n",
    "    while ordre_alphabetique(m1[i],m2[i]) == 0 and i < len(m1)-1:\n",
    "        i += 1\n",
    "    return ordre_alphabetique(m1[i],m2[i])"
   ]
  },
  {
   "cell_type": "code",
   "execution_count": 97,
   "metadata": {},
   "outputs": [
    {
     "data": {
      "text/plain": [
       "0"
      ]
     },
     "execution_count": 97,
     "metadata": {},
     "output_type": "execute_result"
    }
   ],
   "source": [
    "ordre_lexico(\"test\",\"test  \")"
   ]
  },
  {
   "cell_type": "code",
   "execution_count": 99,
   "metadata": {},
   "outputs": [],
   "source": [
    "# 4) tri a bulle\n",
    "def tri_lexico(t):\n",
    "    permutation = True\n",
    "    passage = 0\n",
    "    while permutation:\n",
    "        permutation = False\n",
    "        passage = passage + 1\n",
    "        for en_cours in range(0, len(t) - passage):\n",
    "            if ordre_lexico(t[en_cours],t[en_cours+1]) == 2:\n",
    "                permutation = True\n",
    "                # On echange les deux elements\n",
    "                t[en_cours], t[en_cours + 1] = t[en_cours + 1],t[en_cours]\n",
    "    return t"
   ]
  },
  {
   "cell_type": "code",
   "execution_count": 100,
   "metadata": {},
   "outputs": [],
   "source": [
    "tab =[\"toto\", \"titi\",\"tata\"]"
   ]
  },
  {
   "cell_type": "code",
   "execution_count": 102,
   "metadata": {},
   "outputs": [
    {
     "data": {
      "text/plain": [
       "['tata', 'titi', 'toto']"
      ]
     },
     "execution_count": 102,
     "metadata": {},
     "output_type": "execute_result"
    }
   ],
   "source": [
    "tri_lexico(tab)"
   ]
  },
  {
   "cell_type": "code",
   "execution_count": 118,
   "metadata": {},
   "outputs": [],
   "source": [
    "\"\"\"Exercice 4\"\"\"\n",
    "# 1)\n",
    "\"\"\"\n",
    "fonction triParComptage(tab, borneSuperieure):\n",
    "   // Initialisation des variables\n",
    "   tabComptage[borneSuperieure + 1]\n",
    "   tailleTab = taille(tab) - 1\n",
    "   x = 0\n",
    "\n",
    "   // Initialisation du tableau de comptage à 0\n",
    "   pour i = 0 à borneSuperieure:\n",
    "      tabComptage[i] = 0\n",
    "   finPour\n",
    "\n",
    "   // Création du tableau de comptage\n",
    "   pour i = 0 à tailleTab:\n",
    "      tabComptage[tab[i]]++\n",
    "   finPour\n",
    "\n",
    "   // Création du tableau trié\n",
    "   pour i = 0 à borneSuperieure:\n",
    "      pour j = 0 à tabComptage[i] - 1:\n",
    "         tab[x++] = i\n",
    "     finPour\n",
    "  finPour\n",
    "  retourne tab\n",
    "\"\"\"\n",
    "import numpy as np\n",
    "def tri_compte1(t,M):\n",
    "    # on créé un tableau rempli de 0 de taille M+1\n",
    "    compte = np.zeros(M+1,dtype=int)\n",
    "    for i in t:\n",
    "        compte[i] += 1\n",
    "    res = []\n",
    "    for i in range(0,len(compte)):\n",
    "        for j in range(0,compte[i]):\n",
    "            res.append(i)\n",
    "    return res"
   ]
  },
  {
   "cell_type": "code",
   "execution_count": 119,
   "metadata": {},
   "outputs": [
    {
     "data": {
      "text/plain": [
       "[1, 2, 3, 3, 3, 4, 4, 5, 5]"
      ]
     },
     "execution_count": 119,
     "metadata": {},
     "output_type": "execute_result"
    }
   ],
   "source": [
    "tri_compte1([3,1,2,5,3,4,4,3,5],5)"
   ]
  },
  {
   "cell_type": "code",
   "execution_count": 120,
   "metadata": {},
   "outputs": [],
   "source": [
    "# 2) La complexité est O(M+n)\n",
    "# ligne 31 O(M+1), ligne 32-33 O(n), ligne 34 O(1) et ligne 35-37 O(n)"
   ]
  },
  {
   "cell_type": "code",
   "execution_count": null,
   "metadata": {},
   "outputs": [],
   "source": [
    "# 3) test\n",
    "k = randint(0,100,10000)\n",
    "tri_compte1(k,100)"
   ]
  },
  {
   "cell_type": "code",
   "execution_count": 128,
   "metadata": {},
   "outputs": [],
   "source": [
    "# 4)\n",
    "def tri_compte2(t,M):\n",
    "    # on créé un tableau rempli de 0 de taille M+1\n",
    "    compte = np.zeros(M+1,dtype=int)\n",
    "    for i in t:\n",
    "        compte[i] += 1\n",
    "    k=0\n",
    "    for i in range(0,len(compte)):\n",
    "        for j in range(0,compte[i]):\n",
    "            t[k]=i\n",
    "            k += 1\n",
    "    return t"
   ]
  },
  {
   "cell_type": "code",
   "execution_count": 129,
   "metadata": {},
   "outputs": [
    {
     "data": {
      "text/plain": [
       "array([ 0,  0,  0, ..., 99, 99, 99])"
      ]
     },
     "execution_count": 129,
     "metadata": {},
     "output_type": "execute_result"
    }
   ],
   "source": [
    "tri_compte2(k,100)"
   ]
  },
  {
   "cell_type": "code",
   "execution_count": 130,
   "metadata": {},
   "outputs": [],
   "source": [
    "# 5) \n",
    "def tri_compte3(t):\n",
    "    M = max(t)\n",
    "    # on créé un tableau rempli de 0 de taille M+1\n",
    "    compte = np.zeros(M+1,dtype=int)\n",
    "    for i in t:\n",
    "        compte[i] += 1\n",
    "    k=0\n",
    "    for i in range(0,len(compte)):\n",
    "        for j in range(0,compte[i]):\n",
    "            t[k]=i\n",
    "            k += 1\n",
    "    return t"
   ]
  },
  {
   "cell_type": "code",
   "execution_count": 131,
   "metadata": {},
   "outputs": [
    {
     "data": {
      "text/plain": [
       "array([ 0,  0,  0, ..., 99, 99, 99])"
      ]
     },
     "execution_count": 131,
     "metadata": {},
     "output_type": "execute_result"
    }
   ],
   "source": [
    "tri_compte3(k)"
   ]
  },
  {
   "cell_type": "code",
   "execution_count": null,
   "metadata": {},
   "outputs": [],
   "source": []
  }
 ],
 "metadata": {
  "kernelspec": {
   "display_name": "Python 3",
   "language": "python",
   "name": "python3"
  },
  "language_info": {
   "codemirror_mode": {
    "name": "ipython",
    "version": 3
   },
   "file_extension": ".py",
   "mimetype": "text/x-python",
   "name": "python",
   "nbconvert_exporter": "python",
   "pygments_lexer": "ipython3",
   "version": "3.6.9"
  }
 },
 "nbformat": 4,
 "nbformat_minor": 4
}
