{
 "cells": [
  {
   "cell_type": "code",
   "execution_count": 1,
   "metadata": {},
   "outputs": [],
   "source": [
    "from liste import Liste"
   ]
  },
  {
   "cell_type": "code",
   "execution_count": 2,
   "metadata": {},
   "outputs": [],
   "source": [
    "def dbg(l, *other):\n",
    "    print(l, '|', l.length())\n",
    "    if other:\n",
    "        print(*other)"
   ]
  },
  {
   "cell_type": "code",
   "execution_count": 3,
   "metadata": {},
   "outputs": [
    {
     "name": "stdout",
     "output_type": "stream",
     "text": [
      "[] | 0\n"
     ]
    }
   ],
   "source": [
    "l = Liste()\n",
    "dbg(l)"
   ]
  },
  {
   "cell_type": "code",
   "execution_count": 4,
   "metadata": {},
   "outputs": [
    {
     "name": "stdout",
     "output_type": "stream",
     "text": [
      "[ 100 101 102 103 104] | 5\n"
     ]
    }
   ],
   "source": [
    "for val in reversed(range(5)):\n",
    "    l.insere_tete(val + 100)\n",
    "dbg(l)"
   ]
  },
  {
   "cell_type": "code",
   "execution_count": 5,
   "metadata": {},
   "outputs": [
    {
     "data": {
      "text/plain": [
       "[100, 101, 104, None, None]"
      ]
     },
     "execution_count": 5,
     "metadata": {},
     "output_type": "execute_result"
    }
   ],
   "source": [
    "[l.get_at(pos) for pos in [0, 1, l.length()-1, l.length(), l.length()+1]]"
   ]
  },
  {
   "cell_type": "code",
   "execution_count": 6,
   "metadata": {},
   "outputs": [
    {
     "name": "stdout",
     "output_type": "stream",
     "text": [
      "[ 100 200 102 103 104] | 5\n",
      "None\n"
     ]
    }
   ],
   "source": [
    "res = l.remplace_at(200, 1)\n",
    "dbg(l, res)"
   ]
  },
  {
   "cell_type": "code",
   "execution_count": 7,
   "metadata": {},
   "outputs": [
    {
     "name": "stdout",
     "output_type": "stream",
     "text": [
      "[ 300 200 102 103 104] | 5\n",
      "None\n"
     ]
    }
   ],
   "source": [
    "res = l.remplace_at(300, 0)\n",
    "dbg(l, res)"
   ]
  },
  {
   "cell_type": "code",
   "execution_count": 8,
   "metadata": {},
   "outputs": [
    {
     "name": "stdout",
     "output_type": "stream",
     "text": [
      "[ 300 200 102 103 400] | 5\n",
      "None\n"
     ]
    }
   ],
   "source": [
    "res = l.remplace_at(400, l.length()-1)\n",
    "dbg(l, res)"
   ]
  },
  {
   "cell_type": "code",
   "execution_count": 9,
   "metadata": {},
   "outputs": [
    {
     "name": "stdout",
     "output_type": "stream",
     "text": [
      "[ 300 200 102 103 400] | 5\n",
      "ERROR : indice en dehors de la liste dans la fonction remplace_at\n"
     ]
    }
   ],
   "source": [
    "res = l.remplace_at(666, l.length())\n",
    "dbg(l, res)"
   ]
  },
  {
   "cell_type": "code",
   "execution_count": 10,
   "metadata": {},
   "outputs": [
    {
     "name": "stdout",
     "output_type": "stream",
     "text": [
      "[ 300 999 200 102 103 400] | 6\n",
      "None\n"
     ]
    }
   ],
   "source": [
    "res = l.insere_at(999, 1)\n",
    "dbg(l, res)"
   ]
  },
  {
   "cell_type": "code",
   "execution_count": 11,
   "metadata": {},
   "outputs": [
    {
     "name": "stdout",
     "output_type": "stream",
     "text": [
      "[ 666 300 999 200 102 103 400] | 7\n",
      "None\n"
     ]
    }
   ],
   "source": [
    "res = l.insere_at(666, 0)     # NE MARCHE PAS CA INSERE EN POS=1 PAS 0 ##=> CORRECTED\n",
    "dbg(l, res)"
   ]
  },
  {
   "cell_type": "code",
   "execution_count": 12,
   "metadata": {},
   "outputs": [
    {
     "name": "stdout",
     "output_type": "stream",
     "text": [
      "[ 666 300 999 200 102 103 400 1234] | 8\n",
      "None\n"
     ]
    }
   ],
   "source": [
    "res = l.insere_at(1234, l.length())    # insérer en pos=7 ds liste 7 éléms = append(), pour moi cela devrait marcher (ou dire dans doc)\n",
    "dbg(l, res)                            # CORRECTED"
   ]
  },
  {
   "cell_type": "code",
   "execution_count": 13,
   "metadata": {},
   "outputs": [
    {
     "name": "stdout",
     "output_type": "stream",
     "text": [
      "[ 666 300 999 200 102 103 400 1234] | 8\n",
      "ERROR : indice en dehors de la liste dans la fonction insere_at\n"
     ]
    }
   ],
   "source": [
    "res = l.insere_at(1234, l.length()+1)\n",
    "dbg(l, res)"
   ]
  },
  {
   "cell_type": "code",
   "execution_count": 14,
   "metadata": {},
   "outputs": [
    {
     "name": "stdout",
     "output_type": "stream",
     "text": [
      "[ 300 999 200 102 103 400 1234] | 7\n",
      "None\n"
     ]
    }
   ],
   "source": [
    "res = l.supprime_at(0)   # !!!!! NE MARCHE PAS CA SUPPRIME EN POS=1 PAS 0\n",
    "dbg(l, res)              # CORRECTED"
   ]
  },
  {
   "cell_type": "code",
   "execution_count": 15,
   "metadata": {},
   "outputs": [
    {
     "name": "stdout",
     "output_type": "stream",
     "text": [
      "[ 300 200 102 103 400 1234] | 6\n",
      "None\n"
     ]
    }
   ],
   "source": [
    "res = l.supprime_at(1)\n",
    "dbg(l, res)"
   ]
  },
  {
   "cell_type": "code",
   "execution_count": 16,
   "metadata": {},
   "outputs": [
    {
     "name": "stdout",
     "output_type": "stream",
     "text": [
      "[ 300 200 102 103 400] | 5\n",
      "None\n"
     ]
    }
   ],
   "source": [
    "res = l.supprime_at(l.length()-1)\n",
    "dbg(l, res)"
   ]
  },
  {
   "cell_type": "code",
   "execution_count": 17,
   "metadata": {},
   "outputs": [
    {
     "name": "stdout",
     "output_type": "stream",
     "text": [
      "[ 300 200 102 103 400] | 5\n",
      "ERROR : indice en dehors de la liste dans la fonction supprime_at\n"
     ]
    }
   ],
   "source": [
    "res = l.supprime_at(l.length())\n",
    "dbg(l, res)"
   ]
  },
  {
   "cell_type": "code",
   "execution_count": 18,
   "metadata": {},
   "outputs": [
    {
     "name": "stdout",
     "output_type": "stream",
     "text": [
      "300\n",
      "200\n",
      "102\n",
      "103\n",
      "400\n",
      "[ 300 200 102 103 400] | 5\n"
     ]
    }
   ],
   "source": [
    "res = l.map(lambda x: print(x))\n",
    "dbg(l)"
   ]
  },
  {
   "cell_type": "code",
   "execution_count": 23,
   "metadata": {},
   "outputs": [
    {
     "name": "stdout",
     "output_type": "stream",
     "text": [
      "[ 90000 40000 10404 10609 160000] | 5\n"
     ]
    }
   ],
   "source": [
    "res = l.map(lambda x: x**2, True)    # !!!!! MAP N'EST PAS EN-PLACE (ELLE NE MODIFIE RIEN, C'EST ETRANGE, FEATURE OU BUG ?)\n",
    "dbg(l)"
   ]
  },
  {
   "cell_type": "code",
   "execution_count": 20,
   "metadata": {},
   "outputs": [
    {
     "name": "stdout",
     "output_type": "stream",
     "text": [
      "[ 300 200 102 103 400] | 5\n",
      "0\n"
     ]
    }
   ],
   "source": [
    "res = l.count(100)\n",
    "dbg(l, res)"
   ]
  },
  {
   "cell_type": "code",
   "execution_count": 21,
   "metadata": {},
   "outputs": [
    {
     "name": "stdout",
     "output_type": "stream",
     "text": [
      "[ 300 200 102 103 400] | 5\n",
      "[ 300 200 102 400]\n"
     ]
    }
   ],
   "source": [
    "res = l.filter(lambda x: x%2==0)   # !!!!! ORDRE PAS COHERENT ?\n",
    "dbg(l, res)                        # CORRECTED"
   ]
  },
  {
   "cell_type": "code",
   "execution_count": 22,
   "metadata": {},
   "outputs": [
    {
     "name": "stdout",
     "output_type": "stream",
     "text": [
      "[ 300 200 102 103 400] | 5\n",
      "1105\n"
     ]
    }
   ],
   "source": [
    "res = l.reduce(lambda x, y: x+y, 0)\n",
    "dbg(l, res)"
   ]
  },
  {
   "cell_type": "code",
   "execution_count": null,
   "metadata": {},
   "outputs": [],
   "source": []
  }
 ],
 "metadata": {
  "kernelspec": {
   "display_name": "Python 3",
   "language": "python",
   "name": "python3"
  },
  "language_info": {
   "codemirror_mode": {
    "name": "ipython",
    "version": 3
   },
   "file_extension": ".py",
   "mimetype": "text/x-python",
   "name": "python",
   "nbconvert_exporter": "python",
   "pygments_lexer": "ipython3",
   "version": "3.6.9"
  }
 },
 "nbformat": 4,
 "nbformat_minor": 4
}
