{
 "cells": [
  {
   "cell_type": "code",
   "execution_count": 1,
   "metadata": {},
   "outputs": [],
   "source": [
    "from liste import Liste"
   ]
  },
  {
   "cell_type": "code",
   "execution_count": 2,
   "metadata": {},
   "outputs": [],
   "source": [
    "class TabCell():\n",
    "    \"\"\"Élément d'une table d'asso de la classe `Table`.\"\"\"\n",
    "    \n",
    "    def __init__(self, key, val):\n",
    "        \"\"\"Création d'une instance de cellule de table d'asso.\n",
    "         `key` doit être exister (et de type \"hachable\" en théorie).\"\"\"\n",
    "        if not key:\n",
    "            # on pourrait aussi tester si le type de la clé est utilisable (hachable) comme entrée.\n",
    "            print(\"ERREUR : `key` doit être valide.\")\n",
    "            raise ValueError()\n",
    "        else:\n",
    "            self.key = key\n",
    "            self.val = val\n",
    "    \n",
    "    def __str__(self):\n",
    "        return str(self.key) + \"=>\" + str(self.val)\n",
    "    \n",
    "    def __eq__(self, key):\n",
    "        \"Retourne val si key correspond, None sinon.\"\n",
    "        if self.key == key:\n",
    "            return self.val\n",
    "        else:\n",
    "            return None\n",
    "        \n",
    "    def supprime(self):\n",
    "        \"\"\"En Python, si un objet n'est plus référencé alors le ramasse miètes va le supprimer de la mémoire.\n",
    "        Dans d'autres langages, il faut supprimer explicitement l'objet (libérer la mémoire occupée).\"\"\"\n",
    "        self.key = None\n",
    "        self.val = None"
   ]
  },
  {
   "cell_type": "code",
   "execution_count": 3,
   "metadata": {},
   "outputs": [
    {
     "name": "stdout",
     "output_type": "stream",
     "text": [
      "1=>a\n",
      "a\n",
      "None\n"
     ]
    }
   ],
   "source": [
    "c = TabCell(1, 'a')\n",
    "print(c)\n",
    "print(c == 1)\n",
    "print(c == 0)"
   ]
  },
  {
   "cell_type": "code",
   "execution_count": 4,
   "metadata": {},
   "outputs": [],
   "source": [
    "c.supprime()"
   ]
  },
  {
   "cell_type": "code",
   "execution_count": null,
   "metadata": {},
   "outputs": [],
   "source": []
  },
  {
   "cell_type": "code",
   "execution_count": 5,
   "metadata": {},
   "outputs": [],
   "source": [
    "class Table():\n",
    "    \"\"\"Table d'association simulée avec une liste.\"\"\"\n",
    "    \n",
    "    def __init__(self, autre=None):\n",
    "        \"\"\"Création d'une instance de table d'asso.\n",
    "        Possibilités pour `arg` :\n",
    "         - None : crée une table vide (défaut)\n",
    "         - TabCell : crée une table avec une cellule déja \"peuplée\"\n",
    "         - Table : crée une copie de la table\n",
    "        \"\"\"\n",
    "        self.liste = Liste()  # dans tous les cas on crée la liste\n",
    "        if isinstance(autre, TabCell):\n",
    "            self.liste.insere_tete(autre)\n",
    "        elif isinstance(autre, Table):\n",
    "            autre.liste.filter(lambda x: self.liste.insere_tete(x))\n",
    "\n",
    "    def taille(self):\n",
    "        \"Retourne le nombre d'éléments de la table.\"\n",
    "        return self.liste.length()\n",
    "    \n",
    "    def est_vide(self):\n",
    "        \"Retourne un booléen indiquant si la table est vide ou pas.\"\n",
    "        return self.liste.est_liste_vide()\n",
    "    \n",
    "    def cles(self):\n",
    "        \"Retourne la liste des clés de la table.\"\n",
    "        res = Liste()\n",
    "        for pos in range(self.liste.length()):\n",
    "            res.insere_tete(self.liste.get_at(pos).key)\n",
    "        return res\n",
    "    \n",
    "    def valeurs(self):\n",
    "        \"Retourne la liste des valeurs de la table.\"\n",
    "        res = Liste()\n",
    "        self.liste.filter(lambda x: res.insere_tete(x.val))\n",
    "        return res\n",
    "        \n",
    "    def __str__(self):\n",
    "        \"Affichage du contenu de la table\"\n",
    "        if self.est_vide():\n",
    "            return 'table vide'\n",
    "        else:\n",
    "            return str(self.liste)\n",
    "    \n",
    "    def ajout(self, key, val):\n",
    "        \"Ajout une cellule.\"\n",
    "        \n",
    "        # FIXME ajout d'une clé déjà présente ?\n",
    "        \n",
    "        self.liste.insere_tete(TabCell(key, val))\n",
    "        \n",
    "    def present(self, key):\n",
    "        \"Recherche la clé `key` dans la table. Retourne la valeur associée ou bien `None` si absente.\"\n",
    "        res = self.liste.filter(lambda x: x == key)\n",
    "        if not res.est_liste_vide():\n",
    "            return res.get_at(0).val\n",
    "        else:\n",
    "            return None\n",
    "    \n",
    "    def supprime(self, key):\n",
    "        \"\"\"Supprime l'entrée correspondant à key en retournant sa valeur. Retourne `None` si absente.\n",
    "        Pourrait être trivial si Liste avait une fonction de recherche d'indice (qui retourne la \n",
    "        position/indice de la donnée recherchée ou None si absente).\n",
    "        Mais sans cela, il faut manipuler la structure interne de self.liste depuis Table ce qui\n",
    "        n'est pas une bonne chose.\"\"\"\n",
    "        pass"
   ]
  },
  {
   "cell_type": "code",
   "execution_count": 6,
   "metadata": {},
   "outputs": [
    {
     "name": "stdout",
     "output_type": "stream",
     "text": [
      "table vide    True    0\n"
     ]
    }
   ],
   "source": [
    "t = Table()\n",
    "print(t, '  ', t.est_vide(), '  ', t.taille())"
   ]
  },
  {
   "cell_type": "code",
   "execution_count": 7,
   "metadata": {},
   "outputs": [
    {
     "name": "stdout",
     "output_type": "stream",
     "text": [
      "[ b=>300 a=>100]    False    2\n"
     ]
    }
   ],
   "source": [
    "t.ajout('a', 100)\n",
    "t.ajout('b', 300)\n",
    "print(t, '  ', t.est_vide(), '  ', t.taille())"
   ]
  },
  {
   "cell_type": "code",
   "execution_count": 8,
   "metadata": {},
   "outputs": [
    {
     "name": "stdout",
     "output_type": "stream",
     "text": [
      "100\n"
     ]
    }
   ],
   "source": [
    "res = t.present('a')\n",
    "print(res)"
   ]
  },
  {
   "cell_type": "code",
   "execution_count": 9,
   "metadata": {},
   "outputs": [
    {
     "name": "stdout",
     "output_type": "stream",
     "text": [
      "None\n"
     ]
    }
   ],
   "source": [
    "res = t.present('toto')\n",
    "print(res)"
   ]
  },
  {
   "cell_type": "code",
   "execution_count": 10,
   "metadata": {},
   "outputs": [
    {
     "name": "stdout",
     "output_type": "stream",
     "text": [
      "[ a b]\n"
     ]
    }
   ],
   "source": [
    "print(t.cles())"
   ]
  },
  {
   "cell_type": "code",
   "execution_count": 11,
   "metadata": {},
   "outputs": [
    {
     "name": "stdout",
     "output_type": "stream",
     "text": [
      "[ 100 300]\n"
     ]
    }
   ],
   "source": [
    "print(t.valeurs())"
   ]
  },
  {
   "cell_type": "code",
   "execution_count": null,
   "metadata": {},
   "outputs": [],
   "source": []
  },
  {
   "cell_type": "code",
   "execution_count": 12,
   "metadata": {},
   "outputs": [
    {
     "name": "stdout",
     "output_type": "stream",
     "text": [
      "[ z=>1000]    False    1\n"
     ]
    }
   ],
   "source": [
    "t1 = Table(TabCell('z', 1000))\n",
    "print(t1, '  ', t1.est_vide(), '  ', t1.taille())"
   ]
  },
  {
   "cell_type": "code",
   "execution_count": null,
   "metadata": {},
   "outputs": [],
   "source": []
  },
  {
   "cell_type": "code",
   "execution_count": 13,
   "metadata": {},
   "outputs": [
    {
     "name": "stdout",
     "output_type": "stream",
     "text": [
      "[ z=>1000]    False    1\n"
     ]
    }
   ],
   "source": [
    "t2 = Table(t1)\n",
    "print(t2, '  ', t2.est_vide(), '  ', t2.taille())"
   ]
  },
  {
   "cell_type": "code",
   "execution_count": 14,
   "metadata": {},
   "outputs": [
    {
     "data": {
      "text/plain": [
       "False"
      ]
     },
     "execution_count": 14,
     "metadata": {},
     "output_type": "execute_result"
    }
   ],
   "source": [
    "t2 is t1"
   ]
  },
  {
   "cell_type": "code",
   "execution_count": null,
   "metadata": {},
   "outputs": [],
   "source": []
  }
 ],
 "metadata": {
  "kernelspec": {
   "display_name": "Python 3",
   "language": "python",
   "name": "python3"
  },
  "language_info": {
   "codemirror_mode": {
    "name": "ipython",
    "version": 3
   },
   "file_extension": ".py",
   "mimetype": "text/x-python",
   "name": "python",
   "nbconvert_exporter": "python",
   "pygments_lexer": "ipython3",
   "version": "3.6.9"
  }
 },
 "nbformat": 4,
 "nbformat_minor": 4
}
